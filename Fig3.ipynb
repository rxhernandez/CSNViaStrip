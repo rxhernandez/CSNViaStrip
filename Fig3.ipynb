{
 "cells": [
  {
   "cell_type": "code",
   "execution_count": 1,
   "metadata": {},
   "outputs": [],
   "source": [
    "import tensorflow as tf\n",
    "from tensorflow import keras\n",
    "from keras import optimizers\n",
    "from tensorflow.keras import layers\n",
    "\n",
    "import numpy as np\n",
    "np.set_printoptions(precision=5)\n",
    "import matplotlib.pyplot as plt\n",
    "plt.rcParams[\"font.family\"] = \"Arial\"\n",
    "import pandas as pd\n",
    "pd.options.display.float_format = '{:,.5f}'.format\n",
    "import scipy as sp\n",
    "from scipy import stats\n",
    "import sklearn\n",
    "\n",
    "from scipy.stats import norm\n",
    "import matplotlib.mlab as mlab\n",
    "\n",
    "#from statsmodels.stats.diagnostic import lilliefors\n",
    "#import statsmodels.api as sm \n",
    "from scipy.stats import chisquare\n",
    "\n",
    "import pingouin as pg\n",
    "\n",
    "from sklearn.preprocessing import PowerTransformer\n",
    "import scipy.stats\n",
    "\n",
    "import statsmodels.stats.weightstats as wstats\n",
    "\n",
    "import time"
   ]
  },
  {
   "cell_type": "code",
   "execution_count": 2,
   "metadata": {},
   "outputs": [
    {
     "name": "stderr",
     "output_type": "stream",
     "text": [
      "/Users/ravithree/Library/Python/3.7/lib/python/site-packages/outdated/utils.py:18: OutdatedPackageWarning: The package outdated is out of date. Your version is 0.2.0, the latest is 0.2.1.\n",
      "Set the environment variable OUTDATED_IGNORE=1 to disable these warnings.\n",
      "  **kwargs\n",
      "/Users/ravithree/Library/Python/3.7/lib/python/site-packages/outdated/utils.py:18: OutdatedPackageWarning: The package pingouin is out of date. Your version is 0.3.8, the latest is 0.3.11.\n",
      "Set the environment variable OUTDATED_IGNORE=1 to disable these warnings.\n",
      "  **kwargs\n"
     ]
    }
   ],
   "source": [
    "CSN_path = '/Users/clydedaly/Repos/Machine_Learning/CSN_Data/'\n",
    "CSN_path = '~/git/SusNano/Machine_Learning/CSN_Data/'\n",
    "CSN_path = './Data/'\n",
    "\n",
    "\n",
    "\n",
    "def load_CSN_data():\n",
    "    csv_path = CSN_path + \"Master_List_LCPLCP.csv\"\n",
    "    return pd.read_csv(csv_path)\n",
    "\n",
    "CSN = load_CSN_data()\n",
    "\n",
    "CSN_new_err = CSN['Error'][-18:]\n",
    "\n",
    "CSN = CSN.drop(['Example ID', 'Source', 'Figure ID', 'Data Provider', 'PI',\n",
    "       'Date Received', 'Data Measurment Published', 'Prior Exposure', 'Comments', 'Error'], axis=1)\n",
    "\n",
    "#tsize = CSN.shape[0]//10\n",
    "\n",
    "CSN_new = pd.get_dummies(CSN)\n",
    "\n",
    "\n",
    "CSN_new['Surface Area per Liter'] = CSN_new['Surface Area (NMC) (m2/g)'] * CSN_new['Concentration (mg/L)']\n",
    "CSN_new = CSN_new.drop(['Surface Area (NMC) (m2/g)'], axis=1)\n",
    "\n",
    "CSN_new['log Concentration'] = np.log10(CSN_new['Concentration (mg/L)'] + 1e-9)\n",
    "CSN_new = CSN_new.drop(['Concentration (mg/L)'], axis=1)\n",
    "\n",
    "#CSN_hold = sklearn.utils.shuffle(CSN_new, random_state=65788)\n",
    "CSN_new = CSN_new[-18:]\n",
    "#CSN_test = CSN_hold[-tsize:]"
   ]
  },
  {
   "cell_type": "code",
   "execution_count": 3,
   "metadata": {},
   "outputs": [],
   "source": [
    "out = np.load('Data/true_test_L.pkl', allow_pickle=True)"
   ]
  },
  {
   "cell_type": "code",
   "execution_count": 53,
   "metadata": {},
   "outputs": [
    {
     "name": "stderr",
     "output_type": "stream",
     "text": [
      "No handles with labels found to put in legend.\n"
     ]
    },
    {
     "name": "stdout",
     "output_type": "stream",
     "text": [
      "NormaltestResult(statistic=1.8598408627743277, pvalue=0.3945851057120501)\n"
     ]
    },
    {
     "data": {
      "image/png": "[encoded data removed]",
      "text/plain": [
       "<Figure size 432x288 with 1 Axes>"
      ]
     },
     "metadata": {},
     "output_type": "display_data"
    }
   ],
   "source": [
    "\n",
    "plt.ylabel('Probability(Viability)', fontsize=20, labelpad=30)\n",
    "plt.xlabel('Viability', fontsize=20, labelpad=30)\n",
    "plt.yticks([])\n",
    "plt.xticks([])\n",
    "\n",
    "\n",
    "i=2\n",
    "    \n",
    "\n",
    "x_min = 0.0\n",
    "x_max = 1.5\n",
    "\n",
    "\n",
    "    \n",
    "    \n",
    "x2 = [i for i in CSN_new['Viability Fraction ']][i]\n",
    "x2_err = [i for i in CSN_new_err][i]\n",
    "    \n",
    "    #print (x2)\n",
    "    \n",
    "mean = [i for i in CSN_new['Viability Fraction ']][i]\n",
    "std = [i for i in CSN_new_err][i]\n",
    "    \n",
    "    \n",
    "M =np.mean(out[:, 1, 0, i])\n",
    "variance= np.var(out[:, 1, 0, i])\n",
    "sigma1 = np.sqrt(variance)\n",
    "    \n",
    "Diff = abs(M-x2)\n",
    "    \n",
    "    \n",
    "W = stats.normaltest(out[:, 1, 0, i])\n",
    "print (W)\n",
    "    \n",
    "A = scipy.stats.ttest_1samp(out[:, 1, 0, i], x2)\n",
    "    #print (A)\n",
    "    \n",
    "\n",
    "\n",
    "plt.hist(out[:, 1, 0, i], bins=6, range=(0, 1.5), histtype='step', color='blue', density=True, lw=2)\n",
    "    \n",
    "plt.plot(np.ones(10)*x2, np.arange(0, 2, 0.2), 'r-', lw=4, zorder=0)\n",
    "plt.plot(np.ones(10)*x2+x2_err, np.arange(0, 2, 0.2), 'C1--', lw=4)    \n",
    "plt.plot(np.ones(10)*x2-x2_err, np.arange(0, 2, 0.2), 'C1--', lw=4) \n",
    "    \n",
    "    \n",
    "x = np.linspace(x_min, x_max, 100)\n",
    "\n",
    "y = scipy.stats.norm.pdf(x,mean,std)\n",
    "    \n",
    "plt.plot(x,y, color='green')\n",
    "  \n",
    "y1 = scipy.stats.norm.pdf(x,M,sigma1)\n",
    "plt.plot(x,y1, color='black')\n",
    "    \n",
    "plt.legend(framealpha=0.0,fontsize=14)\n",
    "\n",
    "#plt.set_aspect('auto')\n",
    "\n",
    "#plt.ylim([0, 7])\n",
    "#plt.xlim([-0.2, 1.5])\n",
    "\n",
    "plt.xticks()\n",
    "plt.yticks()\n",
    "\n",
    "#plt.show()\n",
    "plt.savefig('Fig3.pdf', transparent=True, format='pdf', bbox_inches='tight')        "
   ]
  },
  {
   "cell_type": "code",
   "execution_count": null,
   "metadata": {},
   "outputs": [],
   "source": []
  }
 ],
 "metadata": {
  "kernelspec": {
   "display_name": "Python 3",
   "language": "python",
   "name": "python3"
  },
  "language_info": {
   "codemirror_mode": {
    "name": "ipython",
    "version": 3
   },
   "file_extension": ".py",
   "mimetype": "text/x-python",
   "name": "python",
   "nbconvert_exporter": "python",
   "pygments_lexer": "ipython3",
   "version": "3.7.3"
  }
 },
 "nbformat": 4,
 "nbformat_minor": 4
}
