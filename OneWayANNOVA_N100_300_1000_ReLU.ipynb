{
 "cells": [
  {
   "cell_type": "code",
   "execution_count": 1,
   "metadata": {},
   "outputs": [
    {
     "name": "stderr",
     "output_type": "stream",
     "text": [
      "/Users/ravithree/Library/Python/3.7/lib/python/site-packages/outdated/utils.py:18: OutdatedPackageWarning: The package outdated is out of date. Your version is 0.2.0, the latest is 0.2.1.\n",
      "Set the environment variable OUTDATED_IGNORE=1 to disable these warnings.\n",
      "  **kwargs\n",
      "/Users/ravithree/Library/Python/3.7/lib/python/site-packages/outdated/utils.py:18: OutdatedPackageWarning: The package pingouin is out of date. Your version is 0.3.8, the latest is 0.3.10.\n",
      "Set the environment variable OUTDATED_IGNORE=1 to disable these warnings.\n",
      "  **kwargs\n"
     ]
    }
   ],
   "source": [
    "import tensorflow as tf\n",
    "from tensorflow import keras\n",
    "from keras import optimizers\n",
    "from tensorflow.keras import layers\n",
    "\n",
    "import numpy as np\n",
    "np.set_printoptions(precision=5)\n",
    "import matplotlib.pyplot as plt\n",
    "plt.rcParams[\"font.family\"] = \"Arial\"\n",
    "import pandas as pd\n",
    "pd.options.display.float_format = '{:,.5f}'.format\n",
    "import scipy as sp\n",
    "from scipy import stats\n",
    "import sklearn\n",
    "\n",
    "from scipy.stats import norm\n",
    "import matplotlib.mlab as mlab\n",
    "\n",
    "#from statsmodels.stats.diagnostic import lilliefors\n",
    "#import statsmodels.api as sm \n",
    "from scipy.stats import chisquare\n",
    "\n",
    "import pingouin as pg\n",
    "\n",
    "from sklearn.preprocessing import PowerTransformer\n",
    "import scipy.stats\n",
    "\n",
    "import statsmodels.stats.weightstats as wstats\n",
    "\n",
    "import time"
   ]
  },
  {
   "cell_type": "code",
   "execution_count": 2,
   "metadata": {},
   "outputs": [],
   "source": [
    "CSN_path = '/Users/clydedaly/Repos/Machine_Learning/CSN_Data/'\n",
    "CSN_path = '~/git/SusNano/Machine_Learning/CSN_Data/'\n",
    "CSN_path = './Data/'\n",
    "\n",
    "\n",
    "\n",
    "def load_CSN_data():\n",
    "    csv_path = CSN_path + \"Master_List_LCPLCP.csv\"\n",
    "    return pd.read_csv(csv_path)\n",
    "\n",
    "CSN = load_CSN_data()\n",
    "\n",
    "CSN_new_err = CSN['Error'][-18:]\n",
    "\n",
    "CSN = CSN.drop(['Example ID', 'Source', 'Figure ID', 'Data Provider', 'PI',\n",
    "       'Date Received', 'Data Measurment Published', 'Prior Exposure', 'Comments', 'Error'], axis=1)\n",
    "\n",
    "#tsize = CSN.shape[0]//10\n",
    "\n",
    "CSN_new = pd.get_dummies(CSN)\n",
    "\n",
    "\n",
    "CSN_new['Surface Area per Liter'] = CSN_new['Surface Area (NMC) (m2/g)'] * CSN_new['Concentration (mg/L)']\n",
    "CSN_new = CSN_new.drop(['Surface Area (NMC) (m2/g)'], axis=1)\n",
    "\n",
    "CSN_new['log Concentration'] = np.log10(CSN_new['Concentration (mg/L)'] + 1e-9)\n",
    "CSN_new = CSN_new.drop(['Concentration (mg/L)'], axis=1)\n",
    "\n",
    "#CSN_hold = sklearn.utils.shuffle(CSN_new, random_state=65788)\n",
    "CSN_new = CSN_new[-18:]\n",
    "#CSN_test = CSN_hold[-tsize:]"
   ]
  },
  {
   "cell_type": "code",
   "execution_count": 4,
   "metadata": {},
   "outputs": [],
   "source": [
    "out = np.load('Data/true_test_L.pkl', allow_pickle=True)\n",
    "out1 = np.load('Data/true_test_L_300.pkl', allow_pickle=True)\n",
    "out2 = np.load('Data/true_test_1000_L.pkl', allow_pickle=True)\n"
   ]
  },
  {
   "cell_type": "code",
   "execution_count": 12,
   "metadata": {},
   "outputs": [
    {
     "name": "stdout",
     "output_type": "stream",
     "text": [
      "F_onewayResult(statistic=2.47733636158784, pvalue=0.08413851617724258)\n",
      "F_onewayResult(statistic=0.2237435495182115, pvalue=0.7995334991843202)\n",
      "F_onewayResult(statistic=0.42997805661628086, pvalue=0.6505634927752515)\n",
      "F_onewayResult(statistic=0.6119895460966347, pvalue=0.5423386748142822)\n",
      "F_onewayResult(statistic=0.8773926737962673, pvalue=0.4159725896386095)\n",
      "F_onewayResult(statistic=1.704530277968473, pvalue=0.18203404143091662)\n",
      "F_onewayResult(statistic=0.057273850083650386, pvalue=0.9443364611915718)\n",
      "F_onewayResult(statistic=0.016387581449999796, pvalue=0.9837460526195686)\n",
      "F_onewayResult(statistic=0.1840390814277593, pvalue=0.8319126922028772)\n",
      "F_onewayResult(statistic=0.4990353250978806, pvalue=0.6071664862419922)\n",
      "F_onewayResult(statistic=17.817460290760444, pvalue=2.0305664001313853e-08)\n",
      "F_onewayResult(statistic=0.6894047211429725, pvalue=0.501954307229147)\n",
      "F_onewayResult(statistic=0.8117890322025342, pvalue=0.4441605314614403)\n",
      "F_onewayResult(statistic=1.0843292809175629, pvalue=0.3382611142335303)\n",
      "F_onewayResult(statistic=1.501703395170876, pvalue=0.22291796599686847)\n",
      "F_onewayResult(statistic=1.9642680788064486, pvalue=0.14043903499865895)\n",
      "F_onewayResult(statistic=2.2952028413235714, pvalue=0.10091800828232518)\n",
      "F_onewayResult(statistic=2.593104354613033, pvalue=0.07495530328850143)\n"
     ]
    }
   ],
   "source": [
    "\n",
    "    \n",
    "from scipy.stats import f_oneway\n",
    "\n",
    "for i in np.arange(18):\n",
    "    \n",
    "    K1 = out2[:, 0, 0, i]\n",
    "    K4 = out2[:, 1, 0, i]\n",
    "    K7 = out2[:, 2, 0, i]\n",
    "    K10 = out2[:, 3, 0, i]\n",
    "\n",
    "    a = f_oneway(K1, K4, K7, K10)\n",
    "    #print (a)\n",
    "    three = f_oneway(K4, K7, K10)\n",
    "    print(three)"
   ]
  },
  {
   "cell_type": "code",
   "execution_count": 16,
   "metadata": {},
   "outputs": [
    {
     "name": "stdout",
     "output_type": "stream",
     "text": [
      "F_onewayResult(statistic=0.09435286216314177, pvalue=0.9099674128388643)\n",
      "F_onewayResult(statistic=0.014392665948170527, pvalue=0.9857105595074788)\n",
      "F_onewayResult(statistic=0.013347946006809488, pvalue=0.9867408686248647)\n",
      "F_onewayResult(statistic=0.04163183734136747, pvalue=0.9592240556408982)\n",
      "F_onewayResult(statistic=0.13883663392498077, pvalue=0.8703822135471248)\n",
      "F_onewayResult(statistic=1.1787828171875774, pvalue=0.30795879643808155)\n",
      "F_onewayResult(statistic=1.0215400485723278, pvalue=0.3603088182572751)\n",
      "F_onewayResult(statistic=0.8389160621580573, pvalue=0.4323963279432663)\n",
      "F_onewayResult(statistic=0.7989638164743459, pvalue=0.45000021157707504)\n",
      "F_onewayResult(statistic=0.7435209605748737, pvalue=0.4756250147648625)\n",
      "F_onewayResult(statistic=0.20547648872275953, pvalue=0.8142838429705621)\n",
      "F_onewayResult(statistic=0.0010330376924816535, pvalue=0.9989674964703115)\n",
      "F_onewayResult(statistic=0.00040302690926710547, pvalue=0.9995970544114224)\n",
      "F_onewayResult(statistic=0.0038186053884722683, pvalue=0.9961886866116687)\n",
      "F_onewayResult(statistic=0.014153188135456261, pvalue=0.9859466387590491)\n",
      "F_onewayResult(statistic=0.0334859161449388, pvalue=0.9670693073847301)\n",
      "F_onewayResult(statistic=0.07436610958899344, pvalue=0.9283354352022586)\n",
      "F_onewayResult(statistic=0.09845228469363075, pvalue=0.9062452202702626)\n"
     ]
    }
   ],
   "source": [
    "from scipy.stats import f_oneway\n",
    "\n",
    "for i in np.arange(18):\n",
    "    \n",
    "    K1_100 = out[:, 3, 0, i]\n",
    "    K1_300 = out1[:, 3, 0, i]\n",
    "    K1_1000 = out2[:, 3, 0, i]\n",
    "\n",
    "\n",
    "    a = f_oneway(K1_100, K1_300, K1_1000)\n",
    "    print (a)\n",
    "    "
   ]
  },
  {
   "cell_type": "code",
   "execution_count": null,
   "metadata": {},
   "outputs": [],
   "source": []
  }
 ],
 "metadata": {
  "kernelspec": {
   "display_name": "Python 3",
   "language": "python",
   "name": "python3"
  },
  "language_info": {
   "codemirror_mode": {
    "name": "ipython",
    "version": 3
   },
   "file_extension": ".py",
   "mimetype": "text/x-python",
   "name": "python",
   "nbconvert_exporter": "python",
   "pygments_lexer": "ipython3",
   "version": "3.7.3"
  }
 },
 "nbformat": 4,
 "nbformat_minor": 4
}
